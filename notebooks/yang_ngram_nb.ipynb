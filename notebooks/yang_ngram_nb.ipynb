{
 "cells": [
  {
   "cell_type": "code",
   "execution_count": 318,
   "metadata": {},
   "outputs": [
    {
     "name": "stderr",
     "output_type": "stream",
     "text": [
      "[nltk_data] Downloading package punkt to /Users/yangrchen/nltk_data...\n",
      "[nltk_data]   Package punkt is already up-to-date!\n",
      "[nltk_data] Downloading package stopwords to\n",
      "[nltk_data]     /Users/yangrchen/nltk_data...\n",
      "[nltk_data]   Package stopwords is already up-to-date!\n"
     ]
    }
   ],
   "source": [
    "import numpy as np\n",
    "import pandas as pd\n",
    "import seaborn as sns\n",
    "import nltk\n",
    "from nltk.corpus import stopwords\n",
    "import string\n",
    "nltk.download('punkt')\n",
    "nltk.download('stopwords')\n",
    "from nltk.probability import FreqDist"
   ]
  },
  {
   "cell_type": "code",
   "execution_count": 319,
   "metadata": {},
   "outputs": [
    {
     "data": {
      "text/html": [
       "<div>\n",
       "<style scoped>\n",
       "    .dataframe tbody tr th:only-of-type {\n",
       "        vertical-align: middle;\n",
       "    }\n",
       "\n",
       "    .dataframe tbody tr th {\n",
       "        vertical-align: top;\n",
       "    }\n",
       "\n",
       "    .dataframe thead th {\n",
       "        text-align: right;\n",
       "    }\n",
       "</style>\n",
       "<table border=\"1\" class=\"dataframe\">\n",
       "  <thead>\n",
       "    <tr style=\"text-align: right;\">\n",
       "      <th></th>\n",
       "      <th>1</th>\n",
       "      <th>2</th>\n",
       "      <th>3</th>\n",
       "      <th>4</th>\n",
       "      <th>year</th>\n",
       "    </tr>\n",
       "  </thead>\n",
       "  <tbody>\n",
       "    <tr>\n",
       "      <th>0</th>\n",
       "      <td>Keep in mind before the class: where have we b...</td>\n",
       "      <td>Remember to clean the kitchen</td>\n",
       "      <td>NaN</td>\n",
       "      <td>NaN</td>\n",
       "      <td>2023</td>\n",
       "    </tr>\n",
       "    <tr>\n",
       "      <th>1</th>\n",
       "      <td>prioritize life outside of the IAA so you don'...</td>\n",
       "      <td>NaN</td>\n",
       "      <td>start the data visualization project way earli...</td>\n",
       "      <td>NaN</td>\n",
       "      <td>2023</td>\n",
       "    </tr>\n",
       "    <tr>\n",
       "      <th>2</th>\n",
       "      <td>When they say \"trust the process,\" you actuall...</td>\n",
       "      <td>you are expected to maintain an A/B grade poin...</td>\n",
       "      <td>Fall 2 is the most stressful, fast-paced semes...</td>\n",
       "      <td>Don't worry about the TIPS project so much. It...</td>\n",
       "      <td>2023</td>\n",
       "    </tr>\n",
       "    <tr>\n",
       "      <th>3</th>\n",
       "      <td>when you are interested in an analytic group ...</td>\n",
       "      <td>If you are coming into the program after havin...</td>\n",
       "      <td>Depending on your cohort, you may or may not m...</td>\n",
       "      <td>Put your mental health and relationships, abov...</td>\n",
       "      <td>2023</td>\n",
       "    </tr>\n",
       "    <tr>\n",
       "      <th>4</th>\n",
       "      <td>Take good care of yourself. Getting adequate s...</td>\n",
       "      <td>Don't be shy to ask the faculty, classmates, T...</td>\n",
       "      <td>Hang out with your classmates during lunch or ...</td>\n",
       "      <td>It's useful to have prior knowledge of Python ...</td>\n",
       "      <td>2023</td>\n",
       "    </tr>\n",
       "  </tbody>\n",
       "</table>\n",
       "</div>"
      ],
      "text/plain": [
       "                                                   1  \\\n",
       "0  Keep in mind before the class: where have we b...   \n",
       "1  prioritize life outside of the IAA so you don'...   \n",
       "2  When they say \"trust the process,\" you actuall...   \n",
       "3   when you are interested in an analytic group ...   \n",
       "4  Take good care of yourself. Getting adequate s...   \n",
       "\n",
       "                                                   2  \\\n",
       "0                      Remember to clean the kitchen   \n",
       "1                                                NaN   \n",
       "2  you are expected to maintain an A/B grade poin...   \n",
       "3  If you are coming into the program after havin...   \n",
       "4  Don't be shy to ask the faculty, classmates, T...   \n",
       "\n",
       "                                                   3  \\\n",
       "0                                                NaN   \n",
       "1  start the data visualization project way earli...   \n",
       "2  Fall 2 is the most stressful, fast-paced semes...   \n",
       "3  Depending on your cohort, you may or may not m...   \n",
       "4  Hang out with your classmates during lunch or ...   \n",
       "\n",
       "                                                   4  year  \n",
       "0                                                NaN  2023  \n",
       "1                                                NaN  2023  \n",
       "2  Don't worry about the TIPS project so much. It...  2023  \n",
       "3  Put your mental health and relationships, abov...  2023  \n",
       "4  It's useful to have prior knowledge of Python ...  2023  "
      ]
     },
     "execution_count": 319,
     "metadata": {},
     "output_type": "execute_result"
    }
   ],
   "source": [
    "df = pd.read_csv('../data/MSA2024_TIPS_Data.csv')\n",
    "df = df.set_axis(['1', '2', '3', '4', 'year'], axis=1)\n",
    "df.head()"
   ]
  },
  {
   "cell_type": "code",
   "execution_count": 320,
   "metadata": {},
   "outputs": [],
   "source": [
    "# Text pre-processing, remove stop words etc, lower case\n",
    "# Plot Unigram, bigram, trigram frequencies for each year\n",
    "# IMPORTANT: A 'token' is just a word. We call them tokens because not every item in a sentence is an english word... i.e.\n",
    "# numbers, symbols, etc. When I split things into tokens, I am just breaking up the bigger string\n",
    "\n",
    "# data structure looks like this\n",
    "# years = {2016->2023}\n",
    "# each year is list of lists containing the text tokens\n",
    "# Replace the NaNs with empty string\n",
    "df = df.replace(to_replace = np.nan, value = \" \") "
   ]
  },
  {
   "cell_type": "code",
   "execution_count": 321,
   "metadata": {},
   "outputs": [
    {
     "data": {
      "text/plain": [
       "1       [say, trust, process, actually, staff, faculty...\n",
       "2       [expected, maintain, a/b, grade, point, averag...\n",
       "3       [fall, 2, stressful, fast-paced, semester, get...\n",
       "4       [worry, tips, project, much, purpose, see, wel...\n",
       "year                                                 2023\n",
       "Name: 2, dtype: object"
      ]
     },
     "execution_count": 321,
     "metadata": {},
     "output_type": "execute_result"
    }
   ],
   "source": [
    "years = df['year'].unique()\n",
    "stop_words = stopwords.words('english')\n",
    "stop_words.extend([\"''\", \"``\", \"n't\", \"'s\"])\n",
    "\n",
    "def tokenize_and_clean(tip: str):\n",
    "    tip_token = nltk.word_tokenize(tip.lower())\n",
    "    clean_tip = [word for word in tip_token if word not in stop_words and word not in string.punctuation]\n",
    "    return clean_tip\n",
    "\n",
    "tokens_df = df.iloc[:, :-1].applymap(tokenize_and_clean)\n",
    "tokens_df['year'] = df['year']\n",
    "\n",
    "tokens_df.iloc[2]"
   ]
  },
  {
   "cell_type": "code",
   "execution_count": 322,
   "metadata": {},
   "outputs": [
    {
     "data": {
      "text/html": [
       "<div>\n",
       "<style scoped>\n",
       "    .dataframe tbody tr th:only-of-type {\n",
       "        vertical-align: middle;\n",
       "    }\n",
       "\n",
       "    .dataframe tbody tr th {\n",
       "        vertical-align: top;\n",
       "    }\n",
       "\n",
       "    .dataframe thead th {\n",
       "        text-align: right;\n",
       "    }\n",
       "</style>\n",
       "<table border=\"1\" class=\"dataframe\">\n",
       "  <thead>\n",
       "    <tr style=\"text-align: right;\">\n",
       "      <th></th>\n",
       "      <th>gram</th>\n",
       "      <th>freq</th>\n",
       "      <th>year</th>\n",
       "      <th>prob</th>\n",
       "    </tr>\n",
       "  </thead>\n",
       "  <tbody>\n",
       "    <tr>\n",
       "      <th>8099</th>\n",
       "      <td>(international,)</td>\n",
       "      <td>3</td>\n",
       "      <td>2016</td>\n",
       "      <td>0.000122</td>\n",
       "    </tr>\n",
       "  </tbody>\n",
       "</table>\n",
       "</div>"
      ],
      "text/plain": [
       "                  gram freq  year      prob\n",
       "8099  (international,)    3  2016  0.000122"
      ]
     },
     "execution_count": 322,
     "metadata": {},
     "output_type": "execute_result"
    }
   ],
   "source": [
    "def generate_n_gram(n: int) -> pd.DataFrame:\n",
    "    n_gram_df = pd.DataFrame(columns=['gram', 'freq', 'year'])\n",
    "    lst = []\n",
    "\n",
    "    for year in years:\n",
    "        words = []\n",
    "        tokens_df[tokens_df['year'] == year].iloc[:, :-1].applymap(lambda x: words.extend(x))\n",
    "\n",
    "        n_gram = list(nltk.ngrams(words, n))\n",
    "        fdist = FreqDist(n_gram)\n",
    "\n",
    "        # Panda's append is O(n) so we create a temp list\n",
    "        for gram, freq in fdist.items():\n",
    "            lst.append([gram, freq, year])\n",
    "\n",
    "    n_gram_df = pd.concat([n_gram_df, pd.DataFrame(lst, columns=['gram', 'freq', 'year'])])\n",
    "    n_gram_df['prob'] = n_gram_df['freq'] / n_gram_df['freq'].sum()\n",
    "\n",
    "    return n_gram_df\n",
    "\n",
    "unigram_df = generate_n_gram(1)\n",
    "unigram_df[(unigram_df['gram'] == ('international',)) & (unigram_df['year'] == 2016)]"
   ]
  },
  {
   "cell_type": "code",
   "execution_count": 323,
   "metadata": {},
   "outputs": [
    {
     "data": {
      "text/html": [
       "<div>\n",
       "<style scoped>\n",
       "    .dataframe tbody tr th:only-of-type {\n",
       "        vertical-align: middle;\n",
       "    }\n",
       "\n",
       "    .dataframe tbody tr th {\n",
       "        vertical-align: top;\n",
       "    }\n",
       "\n",
       "    .dataframe thead th {\n",
       "        text-align: right;\n",
       "    }\n",
       "</style>\n",
       "<table border=\"1\" class=\"dataframe\">\n",
       "  <thead>\n",
       "    <tr style=\"text-align: right;\">\n",
       "      <th></th>\n",
       "      <th>gram</th>\n",
       "      <th>freq</th>\n",
       "      <th>year</th>\n",
       "      <th>prob</th>\n",
       "    </tr>\n",
       "  </thead>\n",
       "  <tbody>\n",
       "    <tr>\n",
       "      <th>1187</th>\n",
       "      <td>(make, close, friends, program)</td>\n",
       "      <td>2</td>\n",
       "      <td>2023</td>\n",
       "      <td>0.000082</td>\n",
       "    </tr>\n",
       "    <tr>\n",
       "      <th>0</th>\n",
       "      <td>(keep, mind, class, going)</td>\n",
       "      <td>1</td>\n",
       "      <td>2023</td>\n",
       "      <td>0.000041</td>\n",
       "    </tr>\n",
       "    <tr>\n",
       "      <th>2553</th>\n",
       "      <td>(arise, team, first, assigned)</td>\n",
       "      <td>1</td>\n",
       "      <td>2023</td>\n",
       "      <td>0.000041</td>\n",
       "    </tr>\n",
       "    <tr>\n",
       "      <th>2541</th>\n",
       "      <td>(months, closely, working, people)</td>\n",
       "      <td>1</td>\n",
       "      <td>2023</td>\n",
       "      <td>0.000041</td>\n",
       "    </tr>\n",
       "    <tr>\n",
       "      <th>2542</th>\n",
       "      <td>(closely, working, people, unique)</td>\n",
       "      <td>1</td>\n",
       "      <td>2023</td>\n",
       "      <td>0.000041</td>\n",
       "    </tr>\n",
       "    <tr>\n",
       "      <th>...</th>\n",
       "      <td>...</td>\n",
       "      <td>...</td>\n",
       "      <td>...</td>\n",
       "      <td>...</td>\n",
       "    </tr>\n",
       "    <tr>\n",
       "      <th>1278</th>\n",
       "      <td>(individuals, whole, program, opportunity)</td>\n",
       "      <td>1</td>\n",
       "      <td>2023</td>\n",
       "      <td>0.000041</td>\n",
       "    </tr>\n",
       "    <tr>\n",
       "      <th>1279</th>\n",
       "      <td>(whole, program, opportunity, share)</td>\n",
       "      <td>1</td>\n",
       "      <td>2023</td>\n",
       "      <td>0.000041</td>\n",
       "    </tr>\n",
       "    <tr>\n",
       "      <th>1280</th>\n",
       "      <td>(program, opportunity, share, know)</td>\n",
       "      <td>1</td>\n",
       "      <td>2023</td>\n",
       "      <td>0.000041</td>\n",
       "    </tr>\n",
       "    <tr>\n",
       "      <th>1281</th>\n",
       "      <td>(opportunity, share, know, also)</td>\n",
       "      <td>1</td>\n",
       "      <td>2023</td>\n",
       "      <td>0.000041</td>\n",
       "    </tr>\n",
       "    <tr>\n",
       "      <th>3819</th>\n",
       "      <td>(teams, love, hear, often)</td>\n",
       "      <td>1</td>\n",
       "      <td>2023</td>\n",
       "      <td>0.000041</td>\n",
       "    </tr>\n",
       "  </tbody>\n",
       "</table>\n",
       "<p>3820 rows × 4 columns</p>\n",
       "</div>"
      ],
      "text/plain": [
       "                                            gram freq  year      prob\n",
       "1187             (make, close, friends, program)    2  2023  0.000082\n",
       "0                     (keep, mind, class, going)    1  2023  0.000041\n",
       "2553              (arise, team, first, assigned)    1  2023  0.000041\n",
       "2541          (months, closely, working, people)    1  2023  0.000041\n",
       "2542          (closely, working, people, unique)    1  2023  0.000041\n",
       "...                                          ...  ...   ...       ...\n",
       "1278  (individuals, whole, program, opportunity)    1  2023  0.000041\n",
       "1279        (whole, program, opportunity, share)    1  2023  0.000041\n",
       "1280         (program, opportunity, share, know)    1  2023  0.000041\n",
       "1281            (opportunity, share, know, also)    1  2023  0.000041\n",
       "3819                  (teams, love, hear, often)    1  2023  0.000041\n",
       "\n",
       "[3820 rows x 4 columns]"
      ]
     },
     "execution_count": 323,
     "metadata": {},
     "output_type": "execute_result"
    }
   ],
   "source": [
    "test = generate_n_gram(4)\n",
    "top = test[test['year'] == 2023].sort_values('prob', ascending=False)\n",
    "top"
   ]
  },
  {
   "cell_type": "code",
   "execution_count": 324,
   "metadata": {},
   "outputs": [
    {
     "data": {
      "text/plain": [
       "<Axes: xlabel='gram', ylabel='prob'>"
      ]
     },
     "execution_count": 324,
     "metadata": {},
     "output_type": "execute_result"
    },
    {
     "data": {
      "image/png": "[encoded data removed]",
      "text/plain": [
       "<Figure size 640x480 with 1 Axes>"
      ]
     },
     "metadata": {},
     "output_type": "display_data"
    }
   ],
   "source": [
    "sns.barplot(top[:4], x='gram', y='prob')"
   ]
  }
 ],
 "metadata": {
  "kernelspec": {
   "display_name": "blues_clues",
   "language": "python",
   "name": "python3"
  },
  "language_info": {
   "codemirror_mode": {
    "name": "ipython",
    "version": 3
   },
   "file_extension": ".py",
   "mimetype": "text/x-python",
   "name": "python",
   "nbconvert_exporter": "python",
   "pygments_lexer": "ipython3",
   "version": "3.11.4"
  },
  "orig_nbformat": 4
 },
 "nbformat": 4,
 "nbformat_minor": 2
}
