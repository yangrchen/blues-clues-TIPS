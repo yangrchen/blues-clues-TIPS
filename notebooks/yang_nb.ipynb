{
 "cells": [
  {
   "cell_type": "code",
   "execution_count": 1,
   "metadata": {},
   "outputs": [],
   "source": [
    "from pathlib import Path\n",
    "import polars as pl\n",
    "import numpy as np\n",
    "import seaborn as sns\n",
    "\n",
    "data = Path('../data/MSA2024_TIPS_Data.csv')"
   ]
  },
  {
   "cell_type": "code",
   "execution_count": 2,
   "metadata": {},
   "outputs": [
    {
     "data": {
      "text/plain": [
       "(458, 5)"
      ]
     },
     "execution_count": 2,
     "metadata": {},
     "output_type": "execute_result"
    }
   ],
   "source": [
    "df = pl.read_csv(data, columns=range(5), new_columns=['1', '2', '3', 'misc', 'year'])\n",
    "all_years = {year: df.filter(pl.col('year') == year) for year in range(2016, 2024)}\n",
    "\n",
    "df.shape"
   ]
  },
  {
   "cell_type": "code",
   "execution_count": 3,
   "metadata": {},
   "outputs": [
    {
     "data": {
      "text/html": [
       "<div><style>\n",
       ".dataframe > thead > tr > th,\n",
       ".dataframe > tbody > tr > td {\n",
       "  text-align: right;\n",
       "}\n",
       "</style>\n",
       "<small>shape: (5, 5)</small><table border=\"1\" class=\"dataframe\"><thead><tr><th>1</th><th>2</th><th>3</th><th>misc</th><th>year</th></tr><tr><td>str</td><td>str</td><td>str</td><td>str</td><td>i64</td></tr></thead><tbody><tr><td>&quot;Keep in mind b…</td><td>&quot;Remember to cl…</td><td>null</td><td>null</td><td>2023</td></tr><tr><td>&quot;prioritize lif…</td><td>null</td><td>&quot;start the data…</td><td>null</td><td>2023</td></tr><tr><td>&quot;When they say …</td><td>&quot;you are expect…</td><td>&quot;Fall 2 is the …</td><td>&quot;Don&#x27;t worry ab…</td><td>2023</td></tr><tr><td>&quot; when you are …</td><td>&quot;If you are com…</td><td>&quot;Depending on y…</td><td>&quot;Put your menta…</td><td>2023</td></tr><tr><td>&quot;Take good care…</td><td>&quot;Don&#x27;t be shy t…</td><td>&quot;Hang out with …</td><td>&quot;It&#x27;s useful to…</td><td>2023</td></tr></tbody></table></div>"
      ],
      "text/plain": [
       "shape: (5, 5)\n",
       "┌──────────────────────┬──────────────────────┬──────────────────────┬──────────────────────┬──────┐\n",
       "│ 1                    ┆ 2                    ┆ 3                    ┆ misc                 ┆ year │\n",
       "│ ---                  ┆ ---                  ┆ ---                  ┆ ---                  ┆ ---  │\n",
       "│ str                  ┆ str                  ┆ str                  ┆ str                  ┆ i64  │\n",
       "╞══════════════════════╪══════════════════════╪══════════════════════╪══════════════════════╪══════╡\n",
       "│ Keep in mind before  ┆ Remember to clean    ┆ null                 ┆ null                 ┆ 2023 │\n",
       "│ the class: w…        ┆ the kitchen          ┆                      ┆                      ┆      │\n",
       "│ prioritize life      ┆ null                 ┆ start the data       ┆ null                 ┆ 2023 │\n",
       "│ outside of the I…    ┆                      ┆ visualization pro…   ┆                      ┆      │\n",
       "│ When they say \"trust ┆ you are expected to  ┆ Fall 2 is the most   ┆ Don't worry about    ┆ 2023 │\n",
       "│ the process…         ┆ maintain an …        ┆ stressful, fa…       ┆ the TIPS proje…      ┆      │\n",
       "│ when you are         ┆ If you are coming    ┆ Depending on your    ┆ Put your mental      ┆ 2023 │\n",
       "│ interested in an a…  ┆ into the progr…      ┆ cohort, you ma…      ┆ health and relat…    ┆      │\n",
       "│ Take good care of    ┆ Don't be shy to ask  ┆ Hang out with your   ┆ It's useful to have  ┆ 2023 │\n",
       "│ yourself. Gett…      ┆ the faculty,…        ┆ classmates du…       ┆ prior knowle…        ┆      │\n",
       "└──────────────────────┴──────────────────────┴──────────────────────┴──────────────────────┴──────┘"
      ]
     },
     "execution_count": 3,
     "metadata": {},
     "output_type": "execute_result"
    }
   ],
   "source": [
    "all_years[2023].head()"
   ]
  },
  {
   "cell_type": "code",
   "execution_count": 4,
   "metadata": {},
   "outputs": [
    {
     "data": {
      "text/html": [
       "<div><style>\n",
       ".dataframe > thead > tr > th,\n",
       ".dataframe > tbody > tr > td {\n",
       "  text-align: right;\n",
       "}\n",
       "</style>\n",
       "<small>shape: (7, 6)</small><table border=\"1\" class=\"dataframe\"><thead><tr><th>row_nr</th><th>1</th><th>2</th><th>3</th><th>misc</th><th>year</th></tr><tr><td>u32</td><td>str</td><td>str</td><td>str</td><td>str</td><td>i64</td></tr></thead><tbody><tr><td>0</td><td>&quot;Take good care…</td><td>&quot;Don&#x27;t be shy t…</td><td>&quot;Hang out with …</td><td>&quot;It&#x27;s useful to…</td><td>2023</td></tr><tr><td>1</td><td>&quot;Take care of y…</td><td>&quot;Make sure to a…</td><td>&quot;Make sure to s…</td><td>null</td><td>2023</td></tr><tr><td>2</td><td>&quot;Read your text…</td><td>&quot;\n",
       "When the care…</td><td>&quot;You will feel …</td><td>null</td><td>2023</td></tr><tr><td>3</td><td>&quot;Practice SQL a…</td><td>&quot;Trust the proc…</td><td>&quot;Enjoy, and don…</td><td>null</td><td>2023</td></tr><tr><td>4</td><td>&quot;Keep your mind…</td><td>&quot;Putting in the…</td><td>&quot;Make friends t…</td><td>&quot;Self study Pyt…</td><td>2023</td></tr><tr><td>5</td><td>&quot;If you have li…</td><td>&quot;The career ser…</td><td>&quot;If you&#x27;re an i…</td><td>null</td><td>2023</td></tr><tr><td>6</td><td>null</td><td>&quot;Try to use oth…</td><td>&quot;Take everythin…</td><td>null</td><td>2023</td></tr></tbody></table></div>"
      ],
      "text/plain": [
       "shape: (7, 6)\n",
       "┌────────┬────────────────────┬────────────────────┬────────────────────┬───────────────────┬──────┐\n",
       "│ row_nr ┆ 1                  ┆ 2                  ┆ 3                  ┆ misc              ┆ year │\n",
       "│ ---    ┆ ---                ┆ ---                ┆ ---                ┆ ---               ┆ ---  │\n",
       "│ u32    ┆ str                ┆ str                ┆ str                ┆ str               ┆ i64  │\n",
       "╞════════╪════════════════════╪════════════════════╪════════════════════╪═══════════════════╪══════╡\n",
       "│ 0      ┆ Take good care of  ┆ Don't be shy to    ┆ Hang out with your ┆ It's useful to    ┆ 2023 │\n",
       "│        ┆ yourself. Gett…    ┆ ask the faculty,…  ┆ classmates du…     ┆ have prior        ┆      │\n",
       "│        ┆                    ┆                    ┆                    ┆ knowle…           ┆      │\n",
       "│ 1      ┆ Take care of your  ┆ Make sure to       ┆ Make sure to spend ┆ null              ┆ 2023 │\n",
       "│        ┆ mental health!…    ┆ attempt any        ┆ time with you…     ┆                   ┆      │\n",
       "│        ┆                    ┆ analysi…           ┆                    ┆                   ┆      │\n",
       "│ 2      ┆ Read your          ┆                    ┆ You will feel      ┆ null              ┆ 2023 │\n",
       "│        ┆ textbooks. They    ┆ When the career    ┆ busy. Be busier    ┆                   ┆      │\n",
       "│        ┆ have s…            ┆ people say to n…   ┆ an…                ┆                   ┆      │\n",
       "│ 3      ┆ Practice SQL and   ┆ Trust the process. ┆ Enjoy, and don't   ┆ null              ┆ 2023 │\n",
       "│        ┆ Python everyday…   ┆                    ┆ take everything…   ┆                   ┆      │\n",
       "│ 4      ┆ Keep your mind     ┆ Putting in the     ┆ Make friends       ┆ Self study Python ┆ 2023 │\n",
       "│        ┆ open and ready fo… ┆ work and long nig… ┆ through the whole  ┆ throughout the…   ┆      │\n",
       "│        ┆                    ┆                    ┆ p…                 ┆                   ┆      │\n",
       "│ 5      ┆ If you have little ┆ The career         ┆ If you're an       ┆ null              ┆ 2023 │\n",
       "│        ┆ to no prior e…     ┆ services team is   ┆ international      ┆                   ┆      │\n",
       "│        ┆                    ┆ fant…              ┆ stude…             ┆                   ┆      │\n",
       "│ 6      ┆ null               ┆ Try to use other   ┆ Take everything    ┆ null              ┆ 2023 │\n",
       "│        ┆                    ┆ programming lan…   ┆ seriously but do…  ┆                   ┆      │\n",
       "└────────┴────────────────────┴────────────────────┴────────────────────┴───────────────────┴──────┘"
      ]
     },
     "execution_count": 4,
     "metadata": {},
     "output_type": "execute_result"
    }
   ],
   "source": [
    "all_years[2023].filter(pl.any(pl.col(['1', '2', '3', 'misc']).str.contains('[pP]ython'))).with_row_count()"
   ]
  },
  {
   "attachments": {},
   "cell_type": "markdown",
   "metadata": {},
   "source": [
    "# Character Frequencies"
   ]
  },
  {
   "cell_type": "code",
   "execution_count": 5,
   "metadata": {},
   "outputs": [
    {
     "name": "stdout",
     "output_type": "stream",
     "text": [
      "shape: (8, 5)\n",
      "┌──────┬───────┬───────┬───────┬──────┐\n",
      "│ year ┆ 1     ┆ 2     ┆ 3     ┆ misc │\n",
      "│ ---  ┆ ---   ┆ ---   ┆ ---   ┆ ---  │\n",
      "│ i64  ┆ u32   ┆ u32   ┆ u32   ┆ u32  │\n",
      "╞══════╪═══════╪═══════╪═══════╪══════╡\n",
      "│ 2016 ┆ 7577  ┆ 7475  ┆ 6004  ┆ 1281 │\n",
      "│ 2017 ┆ 10623 ┆ 9693  ┆ 6771  ┆ 1427 │\n",
      "│ 2018 ┆ 7015  ┆ 5869  ┆ 4944  ┆ 1202 │\n",
      "│ 2019 ┆ 7717  ┆ 7690  ┆ 6247  ┆ 1466 │\n",
      "│ 2020 ┆ 10109 ┆ 10211 ┆ 8778  ┆ 3266 │\n",
      "│ 2021 ┆ 20267 ┆ 15480 ┆ 17871 ┆ 7035 │\n",
      "│ 2022 ┆ 17023 ┆ 14917 ┆ 10746 ┆ 6168 │\n",
      "│ 2023 ┆ 13900 ┆ 13989 ┆ 12935 ┆ 3053 │\n",
      "└──────┴───────┴───────┴───────┴──────┘\n"
     ]
    }
   ],
   "source": [
    "print(df.groupby('year').agg(pl.col('1', '2', '3', 'misc').str.n_chars().sum()).sort('year'))\n",
    "char_freq = df.groupby('year').agg(pl.sum(pl.col('1', '2', '3', 'misc').str.n_chars().sum())).sort('year')"
   ]
  },
  {
   "cell_type": "code",
   "execution_count": 6,
   "metadata": {},
   "outputs": [
    {
     "data": {
      "text/plain": [
       "<Axes: xlabel='year', ylabel='sum'>"
      ]
     },
     "execution_count": 6,
     "metadata": {},
     "output_type": "execute_result"
    },
    {
     "data": {
      "image/png": "[encoded data removed]",
      "text/plain": [
       "<Figure size 640x480 with 1 Axes>"
      ]
     },
     "metadata": {},
     "output_type": "display_data"
    }
   ],
   "source": [
    "sns.barplot(char_freq.to_pandas(), x='year', y='sum')"
   ]
  }
 ],
 "metadata": {
  "kernelspec": {
   "display_name": "blues_clues",
   "language": "python",
   "name": "python3"
  },
  "language_info": {
   "codemirror_mode": {
    "name": "ipython",
    "version": 3
   },
   "file_extension": ".py",
   "mimetype": "text/x-python",
   "name": "python",
   "nbconvert_exporter": "python",
   "pygments_lexer": "ipython3",
   "version": "3.11.4"
  },
  "orig_nbformat": 4
 },
 "nbformat": 4,
 "nbformat_minor": 2
}
