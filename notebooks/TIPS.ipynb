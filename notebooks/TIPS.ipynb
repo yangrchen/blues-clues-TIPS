{
 "cells": [
  {
   "cell_type": "code",
   "execution_count": 88,
   "metadata": {},
   "outputs": [],
   "source": [
    "import pandas as pd"
   ]
  },
  {
   "cell_type": "code",
   "execution_count": 89,
   "metadata": {},
   "outputs": [],
   "source": [
    "# Read all excel sheets 2016-2023 into a dictionary\n",
    "raw = pd.read_excel('/Users/sophiagray/Desktop/AA 500 - Tools & Techniques /TIPS project/MSA 2024 STUDENT TIPS spreadsheet.xlsx', sheet_name=None)"
   ]
  },
  {
   "cell_type": "code",
   "execution_count": 90,
   "metadata": {},
   "outputs": [
    {
     "data": {
      "text/html": [
       "<div>\n",
       "<style scoped>\n",
       "    .dataframe tbody tr th:only-of-type {\n",
       "        vertical-align: middle;\n",
       "    }\n",
       "\n",
       "    .dataframe tbody tr th {\n",
       "        vertical-align: top;\n",
       "    }\n",
       "\n",
       "    .dataframe thead th {\n",
       "        text-align: right;\n",
       "    }\n",
       "</style>\n",
       "<table border=\"1\" class=\"dataframe\">\n",
       "  <thead>\n",
       "    <tr style=\"text-align: right;\">\n",
       "      <th></th>\n",
       "      <th>TIP #1</th>\n",
       "      <th>TIP #2</th>\n",
       "      <th>TIP #3</th>\n",
       "      <th>Anything else you want to mention? [this can be more TIPS if you are overflowing with advice]</th>\n",
       "      <th>Anything else you want to mention?</th>\n",
       "    </tr>\n",
       "  </thead>\n",
       "  <tbody>\n",
       "    <tr>\n",
       "      <th>0</th>\n",
       "      <td>NaN</td>\n",
       "      <td>NaN</td>\n",
       "      <td>NaN</td>\n",
       "      <td>NaN</td>\n",
       "      <td>NaN</td>\n",
       "    </tr>\n",
       "    <tr>\n",
       "      <th>1</th>\n",
       "      <td>Keep in mind before the class: where have we b...</td>\n",
       "      <td>Remember to clean the kitchen</td>\n",
       "      <td>NaN</td>\n",
       "      <td>NaN</td>\n",
       "      <td>NaN</td>\n",
       "    </tr>\n",
       "    <tr>\n",
       "      <th>2</th>\n",
       "      <td>prioritize life outside of the IAA so you don'...</td>\n",
       "      <td>NaN</td>\n",
       "      <td>start the data visualization project way earli...</td>\n",
       "      <td>NaN</td>\n",
       "      <td>NaN</td>\n",
       "    </tr>\n",
       "    <tr>\n",
       "      <th>3</th>\n",
       "      <td>When they say \"trust the process,\" you actuall...</td>\n",
       "      <td>you are expected to maintain an A/B grade poin...</td>\n",
       "      <td>Fall 2 is the most stressful, fast-paced semes...</td>\n",
       "      <td>Don't worry about the TIPS project so much. It...</td>\n",
       "      <td>NaN</td>\n",
       "    </tr>\n",
       "    <tr>\n",
       "      <th>4</th>\n",
       "      <td>when you are interested in an analytic group ...</td>\n",
       "      <td>If you are coming into the program after havin...</td>\n",
       "      <td>Depending on your cohort, you may or may not m...</td>\n",
       "      <td>Put your mental health and relationships, abov...</td>\n",
       "      <td>NaN</td>\n",
       "    </tr>\n",
       "  </tbody>\n",
       "</table>\n",
       "</div>"
      ],
      "text/plain": [
       "                                              TIP #1  \\\n",
       "0                                                NaN   \n",
       "1  Keep in mind before the class: where have we b...   \n",
       "2  prioritize life outside of the IAA so you don'...   \n",
       "3  When they say \"trust the process,\" you actuall...   \n",
       "4   when you are interested in an analytic group ...   \n",
       "\n",
       "                                              TIP #2  \\\n",
       "0                                                NaN   \n",
       "1                      Remember to clean the kitchen   \n",
       "2                                                NaN   \n",
       "3  you are expected to maintain an A/B grade poin...   \n",
       "4  If you are coming into the program after havin...   \n",
       "\n",
       "                                              TIP #3  \\\n",
       "0                                                NaN   \n",
       "1                                                NaN   \n",
       "2  start the data visualization project way earli...   \n",
       "3  Fall 2 is the most stressful, fast-paced semes...   \n",
       "4  Depending on your cohort, you may or may not m...   \n",
       "\n",
       "  Anything else you want to mention? [this can be more TIPS if you are overflowing with advice]  \\\n",
       "0                                                NaN                                              \n",
       "1                                                NaN                                              \n",
       "2                                                NaN                                              \n",
       "3  Don't worry about the TIPS project so much. It...                                              \n",
       "4  Put your mental health and relationships, abov...                                              \n",
       "\n",
       "  Anything else you want to mention?  \n",
       "0                                NaN  \n",
       "1                                NaN  \n",
       "2                                NaN  \n",
       "3                                NaN  \n",
       "4                                NaN  "
      ]
     },
     "execution_count": 90,
     "metadata": {},
     "output_type": "execute_result"
    }
   ],
   "source": [
    "# Combine all sheets into one dataframe\n",
    "all_data = pd.concat(raw.values(), ignore_index=True)\n",
    "all_data.head(5)"
   ]
  },
  {
   "cell_type": "code",
   "execution_count": 91,
   "metadata": {},
   "outputs": [
    {
     "data": {
      "text/html": [
       "<div>\n",
       "<style scoped>\n",
       "    .dataframe tbody tr th:only-of-type {\n",
       "        vertical-align: middle;\n",
       "    }\n",
       "\n",
       "    .dataframe tbody tr th {\n",
       "        vertical-align: top;\n",
       "    }\n",
       "\n",
       "    .dataframe thead th {\n",
       "        text-align: right;\n",
       "    }\n",
       "</style>\n",
       "<table border=\"1\" class=\"dataframe\">\n",
       "  <thead>\n",
       "    <tr style=\"text-align: right;\">\n",
       "      <th></th>\n",
       "      <th>variable</th>\n",
       "      <th>value</th>\n",
       "    </tr>\n",
       "  </thead>\n",
       "  <tbody>\n",
       "    <tr>\n",
       "      <th>0</th>\n",
       "      <td>TIP #1</td>\n",
       "      <td>NaN</td>\n",
       "    </tr>\n",
       "    <tr>\n",
       "      <th>1</th>\n",
       "      <td>TIP #1</td>\n",
       "      <td>Keep in mind before the class: where have we b...</td>\n",
       "    </tr>\n",
       "    <tr>\n",
       "      <th>2</th>\n",
       "      <td>TIP #1</td>\n",
       "      <td>prioritize life outside of the IAA so you don'...</td>\n",
       "    </tr>\n",
       "    <tr>\n",
       "      <th>3</th>\n",
       "      <td>TIP #1</td>\n",
       "      <td>When they say \"trust the process,\" you actuall...</td>\n",
       "    </tr>\n",
       "    <tr>\n",
       "      <th>4</th>\n",
       "      <td>TIP #1</td>\n",
       "      <td>when you are interested in an analytic group ...</td>\n",
       "    </tr>\n",
       "  </tbody>\n",
       "</table>\n",
       "</div>"
      ],
      "text/plain": [
       "  variable                                              value\n",
       "0   TIP #1                                                NaN\n",
       "1   TIP #1  Keep in mind before the class: where have we b...\n",
       "2   TIP #1  prioritize life outside of the IAA so you don'...\n",
       "3   TIP #1  When they say \"trust the process,\" you actuall...\n",
       "4   TIP #1   when you are interested in an analytic group ..."
      ]
     },
     "execution_count": 91,
     "metadata": {},
     "output_type": "execute_result"
    }
   ],
   "source": [
    "# Condense the data frame to a single column\n",
    "flattened_data = pd.melt(all_data, value_vars=all_data.columns)\n",
    "flattened_data.head(5)"
   ]
  },
  {
   "cell_type": "code",
   "execution_count": 92,
   "metadata": {},
   "outputs": [
    {
     "data": {
      "text/html": [
       "<div>\n",
       "<style scoped>\n",
       "    .dataframe tbody tr th:only-of-type {\n",
       "        vertical-align: middle;\n",
       "    }\n",
       "\n",
       "    .dataframe tbody tr th {\n",
       "        vertical-align: top;\n",
       "    }\n",
       "\n",
       "    .dataframe thead th {\n",
       "        text-align: right;\n",
       "    }\n",
       "</style>\n",
       "<table border=\"1\" class=\"dataframe\">\n",
       "  <thead>\n",
       "    <tr style=\"text-align: right;\">\n",
       "      <th></th>\n",
       "      <th>variable</th>\n",
       "      <th>value</th>\n",
       "    </tr>\n",
       "  </thead>\n",
       "  <tbody>\n",
       "    <tr>\n",
       "      <th>1</th>\n",
       "      <td>TIP #1</td>\n",
       "      <td>Keep in mind before the class: where have we b...</td>\n",
       "    </tr>\n",
       "    <tr>\n",
       "      <th>2</th>\n",
       "      <td>TIP #1</td>\n",
       "      <td>prioritize life outside of the IAA so you don'...</td>\n",
       "    </tr>\n",
       "    <tr>\n",
       "      <th>3</th>\n",
       "      <td>TIP #1</td>\n",
       "      <td>When they say \"trust the process,\" you actuall...</td>\n",
       "    </tr>\n",
       "    <tr>\n",
       "      <th>4</th>\n",
       "      <td>TIP #1</td>\n",
       "      <td>when you are interested in an analytic group ...</td>\n",
       "    </tr>\n",
       "    <tr>\n",
       "      <th>5</th>\n",
       "      <td>TIP #1</td>\n",
       "      <td>Take good care of yourself. Getting adequate s...</td>\n",
       "    </tr>\n",
       "  </tbody>\n",
       "</table>\n",
       "</div>"
      ],
      "text/plain": [
       "  variable                                              value\n",
       "1   TIP #1  Keep in mind before the class: where have we b...\n",
       "2   TIP #1  prioritize life outside of the IAA so you don'...\n",
       "3   TIP #1  When they say \"trust the process,\" you actuall...\n",
       "4   TIP #1   when you are interested in an analytic group ...\n",
       "5   TIP #1  Take good care of yourself. Getting adequate s..."
      ]
     },
     "execution_count": 92,
     "metadata": {},
     "output_type": "execute_result"
    }
   ],
   "source": [
    "# Remove missing values\n",
    "flattened_data_clean = flattened_data.dropna()\n",
    "flattened_data_clean.head(5)"
   ]
  },
  {
   "cell_type": "code",
   "execution_count": 93,
   "metadata": {},
   "outputs": [
    {
     "data": {
      "text/html": [
       "<div>\n",
       "<style scoped>\n",
       "    .dataframe tbody tr th:only-of-type {\n",
       "        vertical-align: middle;\n",
       "    }\n",
       "\n",
       "    .dataframe tbody tr th {\n",
       "        vertical-align: top;\n",
       "    }\n",
       "\n",
       "    .dataframe thead th {\n",
       "        text-align: right;\n",
       "    }\n",
       "</style>\n",
       "<table border=\"1\" class=\"dataframe\">\n",
       "  <thead>\n",
       "    <tr style=\"text-align: right;\">\n",
       "      <th></th>\n",
       "      <th>value</th>\n",
       "    </tr>\n",
       "  </thead>\n",
       "  <tbody>\n",
       "    <tr>\n",
       "      <th>1</th>\n",
       "      <td>Keep in mind before the class: where have we b...</td>\n",
       "    </tr>\n",
       "    <tr>\n",
       "      <th>2</th>\n",
       "      <td>prioritize life outside of the IAA so you don'...</td>\n",
       "    </tr>\n",
       "    <tr>\n",
       "      <th>3</th>\n",
       "      <td>When they say \"trust the process,\" you actuall...</td>\n",
       "    </tr>\n",
       "    <tr>\n",
       "      <th>4</th>\n",
       "      <td>when you are interested in an analytic group ...</td>\n",
       "    </tr>\n",
       "    <tr>\n",
       "      <th>5</th>\n",
       "      <td>Take good care of yourself. Getting adequate s...</td>\n",
       "    </tr>\n",
       "  </tbody>\n",
       "</table>\n",
       "</div>"
      ],
      "text/plain": [
       "                                               value\n",
       "1  Keep in mind before the class: where have we b...\n",
       "2  prioritize life outside of the IAA so you don'...\n",
       "3  When they say \"trust the process,\" you actuall...\n",
       "4   when you are interested in an analytic group ...\n",
       "5  Take good care of yourself. Getting adequate s..."
      ]
     },
     "execution_count": 93,
     "metadata": {},
     "output_type": "execute_result"
    }
   ],
   "source": [
    "all_tips = flattened_data_clean[['value']]\n",
    "all_tips.head(5)\n"
   ]
  },
  {
   "cell_type": "code",
   "execution_count": 94,
   "metadata": {},
   "outputs": [],
   "source": [
    "# Combine all the rows in the all_tips dataframe to a single string\n",
    "word_list = ' '.join(all_tips['value'].astype('str'))\n"
   ]
  },
  {
   "cell_type": "code",
   "execution_count": 95,
   "metadata": {},
   "outputs": [],
   "source": [
    "# Convert the string to a list where each element is a word \n",
    "# make everything lowercase with .lower()\n",
    "word_list = word_list.lower().split()\n"
   ]
  },
  {
   "cell_type": "code",
   "execution_count": 96,
   "metadata": {},
   "outputs": [],
   "source": [
    "import nltk\n",
    "from nltk.corpus import stopwords\n"
   ]
  },
  {
   "cell_type": "code",
   "execution_count": 97,
   "metadata": {},
   "outputs": [
    {
     "data": {
      "text/plain": [
       "179"
      ]
     },
     "execution_count": 97,
     "metadata": {},
     "output_type": "execute_result"
    }
   ],
   "source": [
    "stop_words = set(stopwords.words('english'))\n",
    "len(stop_words)"
   ]
  },
  {
   "cell_type": "code",
   "execution_count": 98,
   "metadata": {},
   "outputs": [],
   "source": [
    "extra_stop = ['get','make','take','much','really']"
   ]
  },
  {
   "cell_type": "code",
   "execution_count": 99,
   "metadata": {},
   "outputs": [],
   "source": [
    "# Remove stop words from the list\n",
    "word_list = [word for word in word_list if word not in stop_words and word not in extra_stop]\n",
    "\n"
   ]
  },
  {
   "cell_type": "code",
   "execution_count": 100,
   "metadata": {},
   "outputs": [],
   "source": [
    "from collections import Counter\n",
    "import re"
   ]
  },
  {
   "cell_type": "code",
   "execution_count": 101,
   "metadata": {},
   "outputs": [],
   "source": [
    "word_counts = Counter(word_list)\n",
    "\n"
   ]
  },
  {
   "cell_type": "code",
   "execution_count": 105,
   "metadata": {},
   "outputs": [
    {
     "data": {
      "text/plain": [
       "[('time', 302),\n",
       " ('work', 184),\n",
       " ('program', 180),\n",
       " ('learn', 167),\n",
       " ('know', 160),\n",
       " ('people', 153),\n",
       " ('help', 151),\n",
       " ('try', 132),\n",
       " ('job', 120),\n",
       " ('go', 119)]"
      ]
     },
     "execution_count": 105,
     "metadata": {},
     "output_type": "execute_result"
    }
   ],
   "source": [
    "most_common_words = word_counts.most_common(10)\n",
    "most_common_words\n"
   ]
  },
  {
   "cell_type": "code",
   "execution_count": 106,
   "metadata": {},
   "outputs": [
    {
     "data": {
      "image/png": "[encoded data removed]",
      "text/plain": [
       "<Figure size 640x480 with 1 Axes>"
      ]
     },
     "metadata": {},
     "output_type": "display_data"
    }
   ],
   "source": [
    "import matplotlib.pyplot as plt\n",
    "\n",
    "# Separtate words and frequencies into two lists\n",
    "words, frequencies = zip(*most_common_words)\n",
    "\n",
    "# Create histogram\n",
    "plt.bar(words, frequencies)\n",
    "plt.ylabel('Frequency')\n",
    "plt.title('Most Common Words 2016-2023')\n",
    "plt.xticks(rotation=45)\n",
    "for i, freq in enumerate(frequencies):\n",
    "    plt.text(i, freq, str(freq), ha='center', va='bottom') \n",
    "plt.show()"
   ]
  },
  {
   "cell_type": "code",
   "execution_count": 107,
   "metadata": {},
   "outputs": [
    {
     "name": "stdout",
     "output_type": "stream",
     "text": [
      "{'python': 42, 'r': 31, 'sas': 18}\n"
     ]
    }
   ],
   "source": [
    "# Subset dictionary \n",
    "\n",
    "selected_words = ['python', 'r', 'sas']\n",
    "subset_dict = {key: word_counts[key] for key in selected_words if key in word_counts}\n",
    "print(subset_dict)\n"
   ]
  },
  {
   "cell_type": "code",
   "execution_count": 108,
   "metadata": {},
   "outputs": [],
   "source": [
    "language = list(subset_dict.keys())\n",
    "frequency = list(subset_dict.values())"
   ]
  },
  {
   "cell_type": "code",
   "execution_count": 109,
   "metadata": {},
   "outputs": [
    {
     "data": {
      "image/png": "[encoded data removed]",
      "text/plain": [
       "<Figure size 640x480 with 1 Axes>"
      ]
     },
     "metadata": {},
     "output_type": "display_data"
    }
   ],
   "source": [
    "import matplotlib.pyplot as plt\n",
    "\n",
    "plt.bar(language,frequency)\n",
    "plt.ylabel(\"Frequency\")\n",
    "plt.title(\"Number of mentions of Python, R, and SAS for all Years\")\n",
    "for i, freq in enumerate(frequency):\n",
    "    plt.text(i, freq, str(freq), ha='center', va='bottom') \n",
    "plt.show()"
   ]
  }
 ],
 "metadata": {
  "kernelspec": {
   "display_name": "Python 3",
   "language": "python",
   "name": "python3"
  },
  "language_info": {
   "codemirror_mode": {
    "name": "ipython",
    "version": 3
   },
   "file_extension": ".py",
   "mimetype": "text/x-python",
   "name": "python",
   "nbconvert_exporter": "python",
   "pygments_lexer": "ipython3",
   "version": "3.10.4"
  },
  "orig_nbformat": 4
 },
 "nbformat": 4,
 "nbformat_minor": 2
}
